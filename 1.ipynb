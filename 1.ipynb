{
  "nbformat": 4,
  "nbformat_minor": 0,
  "metadata": {
    "colab": {
      "provenance": []
    },
    "kernelspec": {
      "name": "python3",
      "display_name": "Python 3"
    },
    "language_info": {
      "name": "python"
    }
  },
  "cells": [
    {
      "cell_type": "code",
      "execution_count": 1,
      "metadata": {
        "id": "cHTl_kauCHZd"
      },
      "outputs": [],
      "source": [
        "import pandas as pd"
      ]
    },
    {
      "cell_type": "code",
      "source": [
        "# create a sample dataframe\n",
        "df = pd.DataFrame({'age': [25, 30, 35, 40, 45],\n",
        "                  'gender': ['male', 'female', 'male', 'female', 'male'],\n",
        "                  'satisfaction': [3, 4, 2, 3, 5]})"
      ],
      "metadata": {
        "id": "8tTU59_jCPVy"
      },
      "execution_count": 2,
      "outputs": []
    },
    {
      "cell_type": "code",
      "source": [
        "# check the data types of the columns\n",
        "print(df.dtypes)"
      ],
      "metadata": {
        "colab": {
          "base_uri": "https://localhost:8080/"
        },
        "id": "ttAusNQsCVfI",
        "outputId": "c8e165b6-8167-4992-d860-c04479527158"
      },
      "execution_count": 3,
      "outputs": [
        {
          "output_type": "stream",
          "name": "stdout",
          "text": [
            "age              int64\n",
            "gender          object\n",
            "satisfaction     int64\n",
            "dtype: object\n"
          ]
        }
      ]
    },
    {
      "cell_type": "code",
      "source": [
        "# check if the column 'satisfaction' is ordinal\n",
        "if df['satisfaction'].dtype.name == 'category':\n",
        "    print(\"The column 'satisfaction' is ordinal\")\n",
        "else:\n",
        "    print(\"The column 'satisfaction' is not ordinal\")\n",
        "\n",
        "# check if the column 'gender' is nominal\n",
        "if df['gender'].dtype.name == 'category':\n",
        "    print(\"The column 'gender' is nominal\")\n",
        "else:\n",
        "    print(\"The column 'gender' is not nominal\")"
      ],
      "metadata": {
        "colab": {
          "base_uri": "https://localhost:8080/"
        },
        "id": "HbamGgSsCZeI",
        "outputId": "718758c0-49da-4183-f0b6-51c8dd45542e"
      },
      "execution_count": 4,
      "outputs": [
        {
          "output_type": "stream",
          "name": "stdout",
          "text": [
            "The column 'satisfaction' is not ordinal\n",
            "The column 'gender' is not nominal\n"
          ]
        }
      ]
    }
  ]
}